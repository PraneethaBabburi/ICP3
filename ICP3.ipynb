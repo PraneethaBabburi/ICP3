{
  "nbformat": 4,
  "nbformat_minor": 0,
  "metadata": {
    "colab": {
      "provenance": []
    },
    "kernelspec": {
      "name": "python3",
      "display_name": "Python 3"
    },
    "language_info": {
      "name": "python"
    }
  },
  "cells": [
    {
      "cell_type": "code",
      "execution_count": 30,
      "metadata": {
        "colab": {
          "base_uri": "https://localhost:8080/"
        },
        "id": "uaVbgW1BUfqs",
        "outputId": "83dc1efa-f7c5-46c5-a7ee-91535fb1b4c0"
      },
      "outputs": [
        {
          "output_type": "stream",
          "name": "stdout",
          "text": [
            "[19  2  2  7  6  3  6 16  9  6  6  6  9 16 10]\n",
            "reshaped array is: \n",
            " [[19  2  2  7  6]\n",
            " [ 3  6 16  9  6]\n",
            " [ 6  6  9 16 10]]\n",
            "array shape is:  (3, 5)\n",
            "array after replacing the max in each row by 0: \n",
            " [[ 0  2  2  7  6]\n",
            " [ 3  6  0  9  6]\n",
            " [ 6  6  9  0 10]]\n"
          ]
        }
      ],
      "source": [
        "#question a\n",
        "import numpy as np\n",
        "\n",
        "#using numpy create random vector of size 15 having only integers in the range 1-20\n",
        "x=np.random.randint(1,20, size=15)\n",
        "print(x)\n",
        "\n",
        "#reshape the array to 3 by 5\n",
        "reshaped_x=x.reshape(3,5)\n",
        "print(\"reshaped array is: \\n\", reshaped_x)\n",
        "\n",
        "#print the array shape\n",
        "print(\"array shape is: \", reshaped_x.shape)\n",
        "\n",
        "#replace the max in each row by 0\n",
        "new_x=np.where(reshaped_x==[[i] for i in np.amax(reshaped_x,axis=1)],0,reshaped_x)\n",
        "print(\"array after replacing the max in each row by 0: \\n\",new_x)"
      ]
    },
    {
      "cell_type": "code",
      "source": [
        "#create a 2 dimensional array of size 4x3 (composed of 4byte integer elements), also print the shape, type, and data type of the array\n",
        "import numpy as np\n",
        "\n",
        "#create a 2 dimensional array of size 4x3 (composed of 4byte integer elements)\n",
        "x=np.array([[3,5,6],[7,4,2],[7,5,9],[1,0,4]], dtype=np.int32)\n",
        "print(x)\n",
        "\n",
        "#print the shape\n",
        "print(\"shape of the array is: \", x.shape)\n",
        "\n",
        "#print the type\n",
        "print(\"type of the array is: \",type(x))\n",
        "\n",
        "#print the data type of array\n",
        "print(\"the data type of array is: \", x.dtype)"
      ],
      "metadata": {
        "colab": {
          "base_uri": "https://localhost:8080/"
        },
        "id": "pBF5O7f4iqnp",
        "outputId": "c0f1448b-42c9-49cf-c1ad-831b47920b18"
      },
      "execution_count": 32,
      "outputs": [
        {
          "output_type": "stream",
          "name": "stdout",
          "text": [
            "[[3 5 6]\n",
            " [7 4 2]\n",
            " [7 5 9]\n",
            " [1 0 4]]\n",
            "shape of the array is:  (4, 3)\n",
            "type of the array is:  <class 'numpy.ndarray'>\n",
            "the data type of array is:  int32\n"
          ]
        }
      ]
    },
    {
      "cell_type": "code",
      "source": [
        "#question b\n",
        "#write a program to compute the eigen values and right eigenvectors of a given square array: [[3 -2][1 0]]\n",
        "import numpy as np\n",
        "from numpy.linalg import eig\n",
        "\n",
        "a=np.array([[3, -2],[1, 0]])\n",
        "print(a)\n",
        "eigen_value,eigen_vector = eig(a)\n",
        "print(\"eigen values of the given array: \",eigen_value)\n",
        "print(\"right eigen vecotrs of the given array: \\n\",eigen_vector)"
      ],
      "metadata": {
        "colab": {
          "base_uri": "https://localhost:8080/"
        },
        "id": "9B4lDeEsjqBF",
        "outputId": "40cabb50-21a7-429a-87e4-e68152c3ea76"
      },
      "execution_count": 35,
      "outputs": [
        {
          "output_type": "stream",
          "name": "stdout",
          "text": [
            "[[ 3 -2]\n",
            " [ 1  0]]\n",
            "eigen values of the given array:  [2. 1.]\n",
            "right eigen vecotrs of the given array: \n",
            " [[0.89442719 0.70710678]\n",
            " [0.4472136  0.70710678]]\n"
          ]
        }
      ]
    },
    {
      "cell_type": "code",
      "source": [
        "#question c\n",
        "#compute the sum of the diagonal element of a given array: [[0,1,2],[3,4,5]]\n",
        "import numpy as np\n",
        "\n",
        "a=np.array([[0,1,2],[3,4,5]])\n",
        "diagonal_sum = np.trace(a)\n",
        "print(\"sum of diagonal elements of given array is: \", diagonal_sum)\n"
      ],
      "metadata": {
        "colab": {
          "base_uri": "https://localhost:8080/"
        },
        "id": "LP_QWmPvm_5q",
        "outputId": "d3592c28-0fda-4895-a915-e1e91c66ddaa"
      },
      "execution_count": 36,
      "outputs": [
        {
          "output_type": "stream",
          "name": "stdout",
          "text": [
            "sum of diagonal elements of given array is:  4\n"
          ]
        }
      ]
    },
    {
      "cell_type": "code",
      "source": [
        "#question d\n",
        "#write a numpy program to create a new shape to an array without changing the\n",
        "#data: reshape 3x2: [[1,2],[3,4],[5,6]] reshape 2x3: [[1,2,3],[4,5,6]]\n",
        "import numpy as np\n",
        "\n",
        "a = np.array([[1,2],[3,4],[5,6]])\n",
        "\n",
        "#reshape to 3x2\n",
        "a_3x2=a.reshape(3,2)\n",
        "\n",
        "#reshape to 2x3\n",
        "a_2x3=a.reshape(2,3)\n",
        "\n",
        "print(\"Reshaped array (3x2):\\n\", a_3x2)\n",
        "print(\"Reshaped array (2x3):\\n\", a_2x3)"
      ],
      "metadata": {
        "colab": {
          "base_uri": "https://localhost:8080/"
        },
        "id": "BSI0QfMho0zF",
        "outputId": "c94083ac-da40-4d61-fa67-7ba6404f1d75"
      },
      "execution_count": 37,
      "outputs": [
        {
          "output_type": "stream",
          "name": "stdout",
          "text": [
            "Reshaped array (3x2):\n",
            " [[1 2]\n",
            " [3 4]\n",
            " [5 6]]\n",
            "Reshaped array (2x3):\n",
            " [[1 2 3]\n",
            " [4 5 6]]\n"
          ]
        }
      ]
    }
  ]
}